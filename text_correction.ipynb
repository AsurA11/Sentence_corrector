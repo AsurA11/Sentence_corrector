{
 "cells": [
  {
   "cell_type": "markdown",
   "metadata": {
    "id": "dMgskiJhzbxv"
   },
   "source": [
    "# Grammarly Project (using Gramformer framework)\n"
   ]
  },
  {
   "cell_type": "code",
   "execution_count": 1,
   "metadata": {
    "id": "488S5rg5zbxz"
   },
   "outputs": [
    {
     "name": "stdout",
     "output_type": "stream",
     "text": [
      "Looking in indexes: https://pypi.org/simple, https://download.pytorch.org/whl/cu116\n",
      "Requirement already satisfied: torch in c:\\users\\sid\\anaconda3\\lib\\site-packages (1.12.1)\n",
      "Requirement already satisfied: torchvision in c:\\users\\sid\\anaconda3\\lib\\site-packages (0.13.1)\n",
      "Requirement already satisfied: torchaudio in c:\\users\\sid\\anaconda3\\lib\\site-packages (0.12.1)\n",
      "Requirement already satisfied: typing_extensions in c:\\users\\sid\\anaconda3\\lib\\site-packages (from torch) (4.1.1)\n",
      "Requirement already satisfied: numpy in c:\\users\\sid\\anaconda3\\lib\\site-packages (from torchvision) (1.21.5)\n",
      "Requirement already satisfied: requests in c:\\users\\sid\\anaconda3\\lib\\site-packages (from torchvision) (2.27.1)\n",
      "Requirement already satisfied: pillow!=8.3.*,>=5.3.0 in c:\\users\\sid\\anaconda3\\lib\\site-packages (from torchvision) (9.0.1)\n",
      "Requirement already satisfied: urllib3<1.27,>=1.21.1 in c:\\users\\sid\\anaconda3\\lib\\site-packages (from requests->torchvision) (1.26.9)\n",
      "Requirement already satisfied: certifi>=2017.4.17 in c:\\users\\sid\\anaconda3\\lib\\site-packages (from requests->torchvision) (2021.10.8)\n",
      "Requirement already satisfied: charset-normalizer~=2.0.0 in c:\\users\\sid\\anaconda3\\lib\\site-packages (from requests->torchvision) (2.0.4)\n",
      "Requirement already satisfied: idna<4,>=2.5 in c:\\users\\sid\\anaconda3\\lib\\site-packages (from requests->torchvision) (3.3)\n"
     ]
    }
   ],
   "source": [
    "!pip install torch torchvision torchaudio --extra-index-url https://download.pytorch.org/whl/cu116"
   ]
  },
  {
   "cell_type": "code",
   "execution_count": 2,
   "metadata": {
    "id": "xciHK9Uuzbx2",
    "scrolled": true
   },
   "outputs": [
    {
     "name": "stdout",
     "output_type": "stream",
     "text": [
      "Collecting git+https://github.com/PrithivirajDamodaran/Gramformer.git\n",
      "  Cloning https://github.com/PrithivirajDamodaran/Gramformer.git to c:\\users\\sid\\appdata\\local\\temp\\pip-req-build-7a4c3_kp\n",
      "  Resolved https://github.com/PrithivirajDamodaran/Gramformer.git to commit d4c6004d1d0f7925aa8b960dc419747b4ee36b18\n",
      "Requirement already satisfied: transformers in c:\\users\\sid\\anaconda3\\lib\\site-packages (from gramformer==1.0) (4.22.2)\n",
      "Requirement already satisfied: sentencepiece in c:\\users\\sid\\anaconda3\\lib\\site-packages (from gramformer==1.0) (0.1.97)\n",
      "Requirement already satisfied: python-Levenshtein in c:\\users\\sid\\anaconda3\\lib\\site-packages (from gramformer==1.0) (0.20.5)\n",
      "Requirement already satisfied: fuzzywuzzy in c:\\users\\sid\\anaconda3\\lib\\site-packages (from gramformer==1.0) (0.18.0)\n",
      "Requirement already satisfied: tokenizers in c:\\users\\sid\\anaconda3\\lib\\site-packages (from gramformer==1.0) (0.12.1)\n",
      "Requirement already satisfied: fsspec in c:\\users\\sid\\anaconda3\\lib\\site-packages (from gramformer==1.0) (2022.2.0)\n",
      "Requirement already satisfied: errant in c:\\users\\sid\\anaconda3\\lib\\site-packages (from gramformer==1.0) (2.3.3)\n",
      "Requirement already satisfied: rapidfuzz>=2.0.0 in c:\\users\\sid\\anaconda3\\lib\\site-packages (from errant->gramformer==1.0) (2.10.3)\n",
      "Requirement already satisfied: spacy<3,>=2.2.0 in c:\\users\\sid\\anaconda3\\lib\\site-packages (from errant->gramformer==1.0) (2.3.7)\n",
      "Requirement already satisfied: jarowinkler<2.0.0,>=1.2.2 in c:\\users\\sid\\anaconda3\\lib\\site-packages (from rapidfuzz>=2.0.0->errant->gramformer==1.0) (1.2.3)\n",
      "Requirement already satisfied: cymem<2.1.0,>=2.0.2 in c:\\users\\sid\\anaconda3\\lib\\site-packages (from spacy<3,>=2.2.0->errant->gramformer==1.0) (2.0.6)\n",
      "Requirement already satisfied: murmurhash<1.1.0,>=0.28.0 in c:\\users\\sid\\anaconda3\\lib\\site-packages (from spacy<3,>=2.2.0->errant->gramformer==1.0) (1.0.8)\n",
      "Requirement already satisfied: wasabi<1.1.0,>=0.4.0 in c:\\users\\sid\\anaconda3\\lib\\site-packages (from spacy<3,>=2.2.0->errant->gramformer==1.0) (0.10.1)\n",
      "Requirement already satisfied: tqdm<5.0.0,>=4.38.0 in c:\\users\\sid\\anaconda3\\lib\\site-packages (from spacy<3,>=2.2.0->errant->gramformer==1.0) (4.64.0)\n",
      "Requirement already satisfied: requests<3.0.0,>=2.13.0 in c:\\users\\sid\\anaconda3\\lib\\site-packages (from spacy<3,>=2.2.0->errant->gramformer==1.0) (2.27.1)\n",
      "Requirement already satisfied: preshed<3.1.0,>=3.0.2 in c:\\users\\sid\\anaconda3\\lib\\site-packages (from spacy<3,>=2.2.0->errant->gramformer==1.0) (3.0.7)\n",
      "Requirement already satisfied: catalogue<1.1.0,>=0.0.7 in c:\\users\\sid\\anaconda3\\lib\\site-packages (from spacy<3,>=2.2.0->errant->gramformer==1.0) (1.0.0)\n",
      "Requirement already satisfied: plac<1.2.0,>=0.9.6 in c:\\users\\sid\\anaconda3\\lib\\site-packages (from spacy<3,>=2.2.0->errant->gramformer==1.0) (1.1.3)\n",
      "Requirement already satisfied: blis<0.8.0,>=0.4.0 in c:\\users\\sid\\anaconda3\\lib\\site-packages (from spacy<3,>=2.2.0->errant->gramformer==1.0) (0.7.8)\n",
      "Requirement already satisfied: thinc<7.5.0,>=7.4.1 in c:\\users\\sid\\anaconda3\\lib\\site-packages (from spacy<3,>=2.2.0->errant->gramformer==1.0) (7.4.5)\n",
      "Requirement already satisfied: setuptools in c:\\users\\sid\\anaconda3\\lib\\site-packages (from spacy<3,>=2.2.0->errant->gramformer==1.0) (61.2.0)\n",
      "Requirement already satisfied: srsly<1.1.0,>=1.0.2 in c:\\users\\sid\\anaconda3\\lib\\site-packages (from spacy<3,>=2.2.0->errant->gramformer==1.0) (1.0.5)\n",
      "Requirement already satisfied: numpy>=1.15.0 in c:\\users\\sid\\anaconda3\\lib\\site-packages (from spacy<3,>=2.2.0->errant->gramformer==1.0) (1.21.5)\n",
      "Requirement already satisfied: urllib3<1.27,>=1.21.1 in c:\\users\\sid\\anaconda3\\lib\\site-packages (from requests<3.0.0,>=2.13.0->spacy<3,>=2.2.0->errant->gramformer==1.0) (1.26.9)\n",
      "Requirement already satisfied: charset-normalizer~=2.0.0 in c:\\users\\sid\\anaconda3\\lib\\site-packages (from requests<3.0.0,>=2.13.0->spacy<3,>=2.2.0->errant->gramformer==1.0) (2.0.4)\n",
      "Requirement already satisfied: idna<4,>=2.5 in c:\\users\\sid\\anaconda3\\lib\\site-packages (from requests<3.0.0,>=2.13.0->spacy<3,>=2.2.0->errant->gramformer==1.0) (3.3)\n",
      "Requirement already satisfied: certifi>=2017.4.17 in c:\\users\\sid\\anaconda3\\lib\\site-packages (from requests<3.0.0,>=2.13.0->spacy<3,>=2.2.0->errant->gramformer==1.0) (2021.10.8)\n",
      "Requirement already satisfied: colorama in c:\\users\\sid\\anaconda3\\lib\\site-packages (from tqdm<5.0.0,>=4.38.0->spacy<3,>=2.2.0->errant->gramformer==1.0) (0.4.4)\n",
      "Requirement already satisfied: Levenshtein==0.20.5 in c:\\users\\sid\\anaconda3\\lib\\site-packages (from python-Levenshtein->gramformer==1.0) (0.20.5)\n",
      "Requirement already satisfied: pyyaml>=5.1 in c:\\users\\sid\\anaconda3\\lib\\site-packages (from transformers->gramformer==1.0) (6.0)\n",
      "Requirement already satisfied: filelock in c:\\users\\sid\\anaconda3\\lib\\site-packages (from transformers->gramformer==1.0) (3.6.0)\n",
      "Requirement already satisfied: packaging>=20.0 in c:\\users\\sid\\anaconda3\\lib\\site-packages (from transformers->gramformer==1.0) (21.3)\n",
      "Requirement already satisfied: regex!=2019.12.17 in c:\\users\\sid\\anaconda3\\lib\\site-packages (from transformers->gramformer==1.0) (2022.3.15)\n",
      "Requirement already satisfied: huggingface-hub<1.0,>=0.9.0 in c:\\users\\sid\\anaconda3\\lib\\site-packages (from transformers->gramformer==1.0) (0.10.0)\n",
      "Requirement already satisfied: typing-extensions>=3.7.4.3 in c:\\users\\sid\\anaconda3\\lib\\site-packages (from huggingface-hub<1.0,>=0.9.0->transformers->gramformer==1.0) (4.1.1)\n",
      "Requirement already satisfied: pyparsing!=3.0.5,>=2.0.2 in c:\\users\\sid\\anaconda3\\lib\\site-packages (from packaging>=20.0->transformers->gramformer==1.0) (3.0.4)\n"
     ]
    },
    {
     "name": "stderr",
     "output_type": "stream",
     "text": [
      "  Running command git clone -q https://github.com/PrithivirajDamodaran/Gramformer.git 'C:\\Users\\Sid\\AppData\\Local\\Temp\\pip-req-build-7a4c3_kp'\n"
     ]
    }
   ],
   "source": [
    "!pip install git+https://github.com/PrithivirajDamodaran/Gramformer.git"
   ]
  },
  {
   "cell_type": "code",
   "execution_count": 3,
   "metadata": {
    "id": "V4vTRchFzbx3"
   },
   "outputs": [],
   "source": [
    "from gramformer import Gramformer"
   ]
  },
  {
   "cell_type": "code",
   "execution_count": 4,
   "metadata": {
    "id": "buiXJ-YJzbx5",
    "scrolled": true
   },
   "outputs": [
    {
     "name": "stdout",
     "output_type": "stream",
     "text": [
      "[Gramformer] Grammar error correct/highlight model loaded..\n"
     ]
    }
   ],
   "source": [
    "model = Gramformer(models=1, use_gpu=False) "
   ]
  },
  {
   "cell_type": "code",
   "execution_count": 5,
   "metadata": {},
   "outputs": [
    {
     "data": {
      "text/plain": [
       "{'my laptop is slow.'}"
      ]
     },
     "execution_count": 5,
     "metadata": {},
     "output_type": "execute_result"
    }
   ],
   "source": [
    "model.correct(\"my laptop slow\")"
   ]
  },
  {
   "cell_type": "markdown",
   "metadata": {
    "id": "pHLOXXh_zbyA"
   },
   "source": [
    "# Gradio (To build user interface for ML models)"
   ]
  },
  {
   "cell_type": "code",
   "execution_count": 6,
   "metadata": {
    "id": "GmaLEMuYzbyA"
   },
   "outputs": [
    {
     "name": "stdout",
     "output_type": "stream",
     "text": [
      "Requirement already satisfied: gradio in c:\\users\\sid\\anaconda3\\lib\\site-packages (3.4.0)\n",
      "Requirement already satisfied: paramiko in c:\\users\\sid\\anaconda3\\lib\\site-packages (from gradio) (2.8.1)\n",
      "Requirement already satisfied: pycryptodome in c:\\users\\sid\\anaconda3\\lib\\site-packages (from gradio) (3.15.0)\n",
      "Requirement already satisfied: fsspec in c:\\users\\sid\\anaconda3\\lib\\site-packages (from gradio) (2022.2.0)\n",
      "Requirement already satisfied: pillow in c:\\users\\sid\\anaconda3\\lib\\site-packages (from gradio) (9.0.1)\n",
      "Requirement already satisfied: pydub in c:\\users\\sid\\anaconda3\\lib\\site-packages (from gradio) (0.25.1)\n",
      "Requirement already satisfied: pyyaml in c:\\users\\sid\\anaconda3\\lib\\site-packages (from gradio) (6.0)\n",
      "Requirement already satisfied: matplotlib in c:\\users\\sid\\anaconda3\\lib\\site-packages (from gradio) (3.5.1)\n",
      "Requirement already satisfied: httpx in c:\\users\\sid\\anaconda3\\lib\\site-packages (from gradio) (0.23.0)\n",
      "Requirement already satisfied: pandas in c:\\users\\sid\\anaconda3\\lib\\site-packages (from gradio) (1.4.2)\n",
      "Requirement already satisfied: websockets in c:\\users\\sid\\anaconda3\\lib\\site-packages (from gradio) (10.3)\n",
      "Requirement already satisfied: jinja2 in c:\\users\\sid\\anaconda3\\lib\\site-packages (from gradio) (2.11.3)\n",
      "Requirement already satisfied: orjson in c:\\users\\sid\\anaconda3\\lib\\site-packages (from gradio) (3.8.0)\n",
      "Requirement already satisfied: python-multipart in c:\\users\\sid\\anaconda3\\lib\\site-packages (from gradio) (0.0.5)\n",
      "Requirement already satisfied: pydantic in c:\\users\\sid\\anaconda3\\lib\\site-packages (from gradio) (1.10.2)\n",
      "Requirement already satisfied: h11<0.13,>=0.11 in c:\\users\\sid\\anaconda3\\lib\\site-packages (from gradio) (0.12.0)\n",
      "Requirement already satisfied: numpy in c:\\users\\sid\\anaconda3\\lib\\site-packages (from gradio) (1.21.5)\n",
      "Requirement already satisfied: requests in c:\\users\\sid\\anaconda3\\lib\\site-packages (from gradio) (2.27.1)\n",
      "Requirement already satisfied: ffmpy in c:\\users\\sid\\anaconda3\\lib\\site-packages (from gradio) (0.3.0)\n",
      "Requirement already satisfied: fastapi in c:\\users\\sid\\anaconda3\\lib\\site-packages (from gradio) (0.85.0)\n",
      "Requirement already satisfied: aiohttp in c:\\users\\sid\\anaconda3\\lib\\site-packages (from gradio) (3.8.1)\n",
      "Requirement already satisfied: uvicorn in c:\\users\\sid\\anaconda3\\lib\\site-packages (from gradio) (0.18.3)\n",
      "Requirement already satisfied: markdown-it-py[linkify,plugins] in c:\\users\\sid\\anaconda3\\lib\\site-packages (from gradio) (2.1.0)\n",
      "Requirement already satisfied: frozenlist>=1.1.1 in c:\\users\\sid\\anaconda3\\lib\\site-packages (from aiohttp->gradio) (1.2.0)\n",
      "Requirement already satisfied: multidict<7.0,>=4.5 in c:\\users\\sid\\anaconda3\\lib\\site-packages (from aiohttp->gradio) (5.1.0)\n",
      "Requirement already satisfied: attrs>=17.3.0 in c:\\users\\sid\\anaconda3\\lib\\site-packages (from aiohttp->gradio) (21.4.0)\n",
      "Requirement already satisfied: charset-normalizer<3.0,>=2.0 in c:\\users\\sid\\anaconda3\\lib\\site-packages (from aiohttp->gradio) (2.0.4)\n",
      "Requirement already satisfied: yarl<2.0,>=1.0 in c:\\users\\sid\\anaconda3\\lib\\site-packages (from aiohttp->gradio) (1.6.3)\n",
      "Requirement already satisfied: async-timeout<5.0,>=4.0.0a3 in c:\\users\\sid\\anaconda3\\lib\\site-packages (from aiohttp->gradio) (4.0.1)\n",
      "Requirement already satisfied: aiosignal>=1.1.2 in c:\\users\\sid\\anaconda3\\lib\\site-packages (from aiohttp->gradio) (1.2.0)\n",
      "Requirement already satisfied: typing-extensions>=3.6.5 in c:\\users\\sid\\anaconda3\\lib\\site-packages (from async-timeout<5.0,>=4.0.0a3->aiohttp->gradio) (4.1.1)\n",
      "Requirement already satisfied: idna>=2.0 in c:\\users\\sid\\anaconda3\\lib\\site-packages (from yarl<2.0,>=1.0->aiohttp->gradio) (3.3)\n",
      "Requirement already satisfied: starlette==0.20.4 in c:\\users\\sid\\anaconda3\\lib\\site-packages (from fastapi->gradio) (0.20.4)\n",
      "Requirement already satisfied: anyio<5,>=3.4.0 in c:\\users\\sid\\anaconda3\\lib\\site-packages (from starlette==0.20.4->fastapi->gradio) (3.5.0)\n",
      "Requirement already satisfied: sniffio>=1.1 in c:\\users\\sid\\anaconda3\\lib\\site-packages (from anyio<5,>=3.4.0->starlette==0.20.4->fastapi->gradio) (1.2.0)\n",
      "Requirement already satisfied: httpcore<0.16.0,>=0.15.0 in c:\\users\\sid\\anaconda3\\lib\\site-packages (from httpx->gradio) (0.15.0)\n",
      "Requirement already satisfied: rfc3986[idna2008]<2,>=1.3 in c:\\users\\sid\\anaconda3\\lib\\site-packages (from httpx->gradio) (1.5.0)\n",
      "Requirement already satisfied: certifi in c:\\users\\sid\\anaconda3\\lib\\site-packages (from httpx->gradio) (2021.10.8)\n",
      "Requirement already satisfied: MarkupSafe>=0.23 in c:\\users\\sid\\anaconda3\\lib\\site-packages (from jinja2->gradio) (2.0.1)\n",
      "Requirement already satisfied: mdurl~=0.1 in c:\\users\\sid\\anaconda3\\lib\\site-packages (from markdown-it-py[linkify,plugins]->gradio) (0.1.2)\n",
      "Requirement already satisfied: mdit-py-plugins in c:\\users\\sid\\anaconda3\\lib\\site-packages (from markdown-it-py[linkify,plugins]->gradio) (0.3.1)\n",
      "Requirement already satisfied: linkify-it-py~=1.0 in c:\\users\\sid\\anaconda3\\lib\\site-packages (from markdown-it-py[linkify,plugins]->gradio) (1.0.3)\n",
      "Requirement already satisfied: uc-micro-py in c:\\users\\sid\\anaconda3\\lib\\site-packages (from linkify-it-py~=1.0->markdown-it-py[linkify,plugins]->gradio) (1.0.1)\n",
      "Requirement already satisfied: packaging>=20.0 in c:\\users\\sid\\anaconda3\\lib\\site-packages (from matplotlib->gradio) (21.3)\n",
      "Requirement already satisfied: fonttools>=4.22.0 in c:\\users\\sid\\anaconda3\\lib\\site-packages (from matplotlib->gradio) (4.25.0)\n",
      "Requirement already satisfied: python-dateutil>=2.7 in c:\\users\\sid\\anaconda3\\lib\\site-packages (from matplotlib->gradio) (2.8.2)\n",
      "Requirement already satisfied: cycler>=0.10 in c:\\users\\sid\\anaconda3\\lib\\site-packages (from matplotlib->gradio) (0.11.0)\n",
      "Requirement already satisfied: pyparsing>=2.2.1 in c:\\users\\sid\\anaconda3\\lib\\site-packages (from matplotlib->gradio) (3.0.4)\n",
      "Requirement already satisfied: kiwisolver>=1.0.1 in c:\\users\\sid\\anaconda3\\lib\\site-packages (from matplotlib->gradio) (1.3.2)\n",
      "Requirement already satisfied: six>=1.5 in c:\\users\\sid\\anaconda3\\lib\\site-packages (from python-dateutil>=2.7->matplotlib->gradio) (1.16.0)\n",
      "Requirement already satisfied: pytz>=2020.1 in c:\\users\\sid\\anaconda3\\lib\\site-packages (from pandas->gradio) (2021.3)\n",
      "Requirement already satisfied: cryptography>=2.5 in c:\\users\\sid\\anaconda3\\lib\\site-packages (from paramiko->gradio) (3.4.8)\n",
      "Requirement already satisfied: bcrypt>=3.1.3 in c:\\users\\sid\\anaconda3\\lib\\site-packages (from paramiko->gradio) (3.2.0)\n",
      "Requirement already satisfied: pynacl>=1.0.1 in c:\\users\\sid\\anaconda3\\lib\\site-packages (from paramiko->gradio) (1.4.0)\n",
      "Requirement already satisfied: cffi>=1.1 in c:\\users\\sid\\anaconda3\\lib\\site-packages (from bcrypt>=3.1.3->paramiko->gradio) (1.15.0)\n",
      "Requirement already satisfied: pycparser in c:\\users\\sid\\anaconda3\\lib\\site-packages (from cffi>=1.1->bcrypt>=3.1.3->paramiko->gradio) (2.21)\n",
      "Requirement already satisfied: urllib3<1.27,>=1.21.1 in c:\\users\\sid\\anaconda3\\lib\\site-packages (from requests->gradio) (1.26.9)\n",
      "Requirement already satisfied: click>=7.0 in c:\\users\\sid\\anaconda3\\lib\\site-packages (from uvicorn->gradio) (8.0.4)\n",
      "Requirement already satisfied: colorama in c:\\users\\sid\\anaconda3\\lib\\site-packages (from click>=7.0->uvicorn->gradio) (0.4.4)\n"
     ]
    }
   ],
   "source": [
    "!pip install gradio"
   ]
  },
  {
   "cell_type": "code",
   "execution_count": 7,
   "metadata": {
    "id": "5fZu2vL9zbyB"
   },
   "outputs": [],
   "source": [
    "import gradio as gr"
   ]
  },
  {
   "cell_type": "code",
   "execution_count": 8,
   "metadata": {
    "id": "Ag94TYMwzbyC"
   },
   "outputs": [],
   "source": [
    "def correct_sentence(text):\n",
    "    result = model.correct(text)\n",
    "    return list(result)[0] "
   ]
  },
  {
   "cell_type": "code",
   "execution_count": 9,
   "metadata": {
    "id": "YCqltK-wzbyC"
   },
   "outputs": [
    {
     "name": "stderr",
     "output_type": "stream",
     "text": [
      "C:\\Users\\Sid\\anaconda3\\lib\\site-packages\\gradio\\inputs.py:26: UserWarning: Usage of gradio.inputs is deprecated, and will not be supported in the future, please import your component from gradio.components\n",
      "  warnings.warn(\n",
      "C:\\Users\\Sid\\anaconda3\\lib\\site-packages\\gradio\\deprecation.py:40: UserWarning: `optional` parameter is deprecated, and it has no effect\n",
      "  warnings.warn(value)\n",
      "C:\\Users\\Sid\\anaconda3\\lib\\site-packages\\gradio\\deprecation.py:40: UserWarning: `numeric` parameter is deprecated, and it has no effect\n",
      "  warnings.warn(value)\n",
      "C:\\Users\\Sid\\anaconda3\\lib\\site-packages\\gradio\\deprecation.py:40: UserWarning: The 'type' parameter has been deprecated. Use the Number component instead.\n",
      "  warnings.warn(value)\n"
     ]
    }
   ],
   "source": [
    "app_input = gr.inputs.Textbox(lines=3, placeholder=\"Enter sentence here.\")"
   ]
  },
  {
   "cell_type": "code",
   "execution_count": 10,
   "metadata": {
    "id": "8Mvb1B8azbyD"
   },
   "outputs": [],
   "source": [
    "interface = gr.Interface(fn=correct_sentence, \n",
    "                        inputs=app_input,\n",
    "                         outputs='text', \n",
    "                        title='Grammar Corrector')"
   ]
  },
  {
   "cell_type": "code",
   "execution_count": 12,
   "metadata": {
    "id": "9onFnElCzbyD",
    "scrolled": false
   },
   "outputs": [
    {
     "name": "stdout",
     "output_type": "stream",
     "text": [
      "Rerunning server... use `close()` to stop if you need to change `launch()` parameters.\n",
      "----\n",
      "Running on local URL:  http://127.0.0.1:7860\n",
      "Running on public URL: https://19402.gradio.app\n",
      "\n",
      "This share link expires in 72 hours. For free permanent hosting, check out Spaces: https://huggingface.co/spaces\n"
     ]
    },
    {
     "data": {
      "text/html": [
       "<div><iframe src=\"https://19402.gradio.app\" width=\"900\" height=\"500\" allow=\"autoplay; camera; microphone; clipboard-read; clipboard-write;\" frameborder=\"0\" allowfullscreen></iframe></div>"
      ],
      "text/plain": [
       "<IPython.core.display.HTML object>"
      ]
     },
     "metadata": {},
     "output_type": "display_data"
    },
    {
     "data": {
      "text/plain": [
       "(<gradio.routes.App at 0x1f6e6661130>,\n",
       " 'http://127.0.0.1:7860/',\n",
       " 'https://19402.gradio.app')"
      ]
     },
     "execution_count": 12,
     "metadata": {},
     "output_type": "execute_result"
    }
   ],
   "source": [
    "interface.launch(share=True)"
   ]
  },
  {
   "cell_type": "code",
   "execution_count": null,
   "metadata": {},
   "outputs": [],
   "source": []
  }
 ],
 "metadata": {
  "colab": {
   "collapsed_sections": [],
   "provenance": []
  },
  "kernelspec": {
   "display_name": "Python 3 (ipykernel)",
   "language": "python",
   "name": "python3"
  },
  "language_info": {
   "codemirror_mode": {
    "name": "ipython",
    "version": 3
   },
   "file_extension": ".py",
   "mimetype": "text/x-python",
   "name": "python",
   "nbconvert_exporter": "python",
   "pygments_lexer": "ipython3",
   "version": "3.9.12"
  }
 },
 "nbformat": 4,
 "nbformat_minor": 1
}
