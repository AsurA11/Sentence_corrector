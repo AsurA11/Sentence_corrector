{
  "cells": [
    {
      "cell_type": "markdown",
      "metadata": {
        "id": "view-in-github",
        "colab_type": "text"
      },
      "source": [
        "<a href=\"https://colab.research.google.com/github/AsurA11/Sentence_corrector/blob/main/sentence_correction.ipynb\" target=\"_parent\"><img src=\"https://colab.research.google.com/assets/colab-badge.svg\" alt=\"Open In Colab\"/></a>"
      ]
    },
    {
      "cell_type": "markdown",
      "metadata": {
        "id": "dMgskiJhzbxv"
      },
      "source": [
        "# Grammarly Project (using Gramformer framework)\n"
      ]
    },
    {
      "cell_type": "code",
      "execution_count": null,
      "metadata": {
        "id": "488S5rg5zbxz"
      },
      "outputs": [],
      "source": [
        "!pip install torch torchvision torchaudio --extra-index-url https://download.pytorch.org/whl/cu116"
      ]
    },
    {
      "cell_type": "code",
      "source": [
        "!pip install git+https://github.com/PrithivirajDamodaran/Gramformer.git"
      ],
      "metadata": {
        "id": "bEUp3la03G81"
      },
      "execution_count": null,
      "outputs": []
    },
    {
      "cell_type": "code",
      "execution_count": null,
      "metadata": {
        "id": "V4vTRchFzbx3"
      },
      "outputs": [],
      "source": [
        "from gramformer import Gramformer"
      ]
    },
    {
      "cell_type": "code",
      "execution_count": null,
      "metadata": {
        "id": "buiXJ-YJzbx5"
      },
      "outputs": [],
      "source": [
        "model = Gramformer(models=1) "
      ]
    },
    {
      "cell_type": "code",
      "source": [
        "model.correct(\"my laptop slow\")"
      ],
      "metadata": {
        "id": "g_81g97C6CdG"
      },
      "execution_count": null,
      "outputs": []
    },
    {
      "cell_type": "markdown",
      "metadata": {
        "id": "pHLOXXh_zbyA"
      },
      "source": [
        "# Gradio (To build user interface for ML models)"
      ]
    },
    {
      "cell_type": "code",
      "execution_count": null,
      "metadata": {
        "id": "GmaLEMuYzbyA"
      },
      "outputs": [],
      "source": [
        "!pip install gradio"
      ]
    },
    {
      "cell_type": "code",
      "execution_count": null,
      "metadata": {
        "id": "5fZu2vL9zbyB"
      },
      "outputs": [],
      "source": [
        "import gradio as gr"
      ]
    },
    {
      "cell_type": "code",
      "execution_count": null,
      "metadata": {
        "id": "Ag94TYMwzbyC"
      },
      "outputs": [],
      "source": [
        "def correct_sentence(text):\n",
        "    result = model.correct(text)\n",
        "    return list(result)[0] "
      ]
    },
    {
      "cell_type": "code",
      "execution_count": null,
      "metadata": {
        "id": "YCqltK-wzbyC"
      },
      "outputs": [],
      "source": [
        "app_input = gr.inputs.Textbox(lines=3, placeholder=\"Enter sentence here.\")"
      ]
    },
    {
      "cell_type": "code",
      "execution_count": null,
      "metadata": {
        "id": "8Mvb1B8azbyD"
      },
      "outputs": [],
      "source": [
        "interface = gr.Interface(fn=correct_sentence, \n",
        "                        inputs=app_input,\n",
        "                         outputs='text', \n",
        "                        title='Grammar Corrector')"
      ]
    },
    {
      "cell_type": "code",
      "execution_count": null,
      "metadata": {
        "id": "9onFnElCzbyD"
      },
      "outputs": [],
      "source": [
        "interface.launch()"
      ]
    }
  ],
  "metadata": {
    "kernelspec": {
      "display_name": "gramformer",
      "language": "python",
      "name": "gramformer"
    },
    "language_info": {
      "codemirror_mode": {
        "name": "ipython",
        "version": 3
      },
      "file_extension": ".py",
      "mimetype": "text/x-python",
      "name": "python",
      "nbconvert_exporter": "python",
      "pygments_lexer": "ipython3",
      "version": "3.7.3"
    },
    "colab": {
      "provenance": [],
      "collapsed_sections": [],
      "include_colab_link": true
    }
  },
  "nbformat": 4,
  "nbformat_minor": 0
}